{
  "nbformat": 4,
  "nbformat_minor": 0,
  "metadata": {
    "colab": {
      "provenance": [],
      "authorship_tag": "ABX9TyOlDy8MtVrVXiYQEFf85U2+",
      "include_colab_link": true
    },
    "kernelspec": {
      "name": "python3",
      "display_name": "Python 3"
    },
    "language_info": {
      "name": "python"
    }
  },
  "cells": [
    {
      "cell_type": "markdown",
      "metadata": {
        "id": "view-in-github",
        "colab_type": "text"
      },
      "source": [
        "<a href=\"https://colab.research.google.com/github/arun-arunisto/Python-Education/blob/todo/NumpyTutorial.ipynb\" target=\"_parent\"><img src=\"https://colab.research.google.com/assets/colab-badge.svg\" alt=\"Open In Colab\"/></a>"
      ]
    },
    {
      "cell_type": "markdown",
      "source": [
        "<img src=\"https://numpy.org/doc/stable/_static/numpylogo.svg\" width=\"200\"/>\n",
        "<h2>Numpy Beginner's Guide</h2>\n",
        "<p><i>Arun Arunisto</i><p>"
      ],
      "metadata": {
        "id": "MjAy04Q-S_4t"
      }
    },
    {
      "cell_type": "markdown",
      "source": [
        "<ul>\n",
        "<li>What is Numpy?</li>\n",
        "<p align=\"justify\">NumPy (Numerical Python) is an open-source Python library that’s used in almost every field of science and engineering. The NumPy library contains multidimensional array and matrix data structures. It provides ndarray, a homogeneous n-dimensional array object, with methods to efficiently operate on it. NumPy can be used to perform a wide variety of mathematical operations on arrays. The NumPy API is used extensively in Pandas, SciPy, Matplotlib, scikit-learn, scikit-image and most other data science and scientific Python packages.</p>\n",
        "<li>Installing Numpy</li>\n",
        "</ul>"
      ],
      "metadata": {
        "id": "E-vYAq-jTTtF"
      }
    },
    {
      "cell_type": "code",
      "source": [
        "!pip install numpy \n",
        "#not need ! to install numpy on windows, \n",
        "#or other platforms you can execute simply \"pip install numpy\""
      ],
      "metadata": {
        "colab": {
          "base_uri": "https://localhost:8080/"
        },
        "id": "aYPRapAiU7_2",
        "outputId": "f9b9544b-c8eb-4de8-fd92-83a3843d6379"
      },
      "execution_count": 2,
      "outputs": [
        {
          "output_type": "stream",
          "name": "stdout",
          "text": [
            "Looking in indexes: https://pypi.org/simple, https://us-python.pkg.dev/colab-wheels/public/simple/\n",
            "Requirement already satisfied: numpy in /usr/local/lib/python3.10/dist-packages (1.22.4)\n"
          ]
        }
      ]
    },
    {
      "cell_type": "code",
      "source": [
        "import numpy as np\n",
        "#accessing numpy in Python"
      ],
      "metadata": {
        "id": "PDQ8KPLPVOeu"
      },
      "execution_count": 5,
      "outputs": []
    },
    {
      "cell_type": "markdown",
      "source": [
        "<ul>\n",
        "<li>Why use numpy?</li>\n",
        "<p align=\"justify\">NumPy arrays are faster and more compact than Python lists. An array consumes less memory and is convenient to use. NumPy uses much less memory to store data and it provides a mechanism of specifying the data types. This allows the code to be optimized even further.</p>\n",
        "</ul>"
      ],
      "metadata": {
        "id": "5mtTWYhJXOCt"
      }
    },
    {
      "cell_type": "code",
      "source": [
        "#creating an basic array\n",
        "basic_array = np.array([1, 2, 3])\n",
        "basic_array"
      ],
      "metadata": {
        "colab": {
          "base_uri": "https://localhost:8080/"
        },
        "id": "EI1_znT8W3kP",
        "outputId": "4bf9c001-f14d-408b-eb4a-1a4ec89d1dae"
      },
      "execution_count": 6,
      "outputs": [
        {
          "output_type": "execute_result",
          "data": {
            "text/plain": [
              "array([1, 2, 3])"
            ]
          },
          "metadata": {},
          "execution_count": 6
        }
      ]
    },
    {
      "cell_type": "code",
      "source": [
        "#creating an 2D array\n",
        "two_d = np.array([[1, 2, 3], [4, 5, 6]])\n",
        "two_d"
      ],
      "metadata": {
        "colab": {
          "base_uri": "https://localhost:8080/"
        },
        "id": "wFvwIVwhYn2H",
        "outputId": "9c1f4aa6-5c34-4cfd-994a-7d5b9e82dd9a"
      },
      "execution_count": 7,
      "outputs": [
        {
          "output_type": "execute_result",
          "data": {
            "text/plain": [
              "array([[1, 2, 3],\n",
              "       [4, 5, 6]])"
            ]
          },
          "metadata": {},
          "execution_count": 7
        }
      ]
    },
    {
      "cell_type": "code",
      "source": [
        "#creating an array filled with 0's\n",
        "zeros = np.zeros(4)\n",
        "zeros"
      ],
      "metadata": {
        "colab": {
          "base_uri": "https://localhost:8080/"
        },
        "id": "_qhavQSPZCw2",
        "outputId": "edfdcb00-2d4c-4ea2-d938-0d0babf5f565"
      },
      "execution_count": 8,
      "outputs": [
        {
          "output_type": "execute_result",
          "data": {
            "text/plain": [
              "array([0., 0., 0., 0.])"
            ]
          },
          "metadata": {},
          "execution_count": 8
        }
      ]
    },
    {
      "cell_type": "code",
      "source": [
        "#creating an array filled with 1's\n",
        "ones = np.ones(4)\n",
        "ones"
      ],
      "metadata": {
        "colab": {
          "base_uri": "https://localhost:8080/"
        },
        "id": "4LPSbe3pZmlG",
        "outputId": "8ab3a8ab-0ad0-4438-c256-c773a8941ffc"
      },
      "execution_count": 10,
      "outputs": [
        {
          "output_type": "execute_result",
          "data": {
            "text/plain": [
              "array([1., 1., 1., 1.])"
            ]
          },
          "metadata": {},
          "execution_count": 10
        }
      ]
    },
    {
      "cell_type": "code",
      "source": [
        "#create an empty array with 4 elements\n",
        "#the result will be vary\n",
        "empty = np.empty(4)\n",
        "empty"
      ],
      "metadata": {
        "colab": {
          "base_uri": "https://localhost:8080/"
        },
        "id": "w1lqUo2RaOuR",
        "outputId": "ff452bf3-39f7-4a5d-8a53-8f04c36abbab"
      },
      "execution_count": 12,
      "outputs": [
        {
          "output_type": "execute_result",
          "data": {
            "text/plain": [
              "array([1., 1., 1., 1.])"
            ]
          },
          "metadata": {},
          "execution_count": 12
        }
      ]
    },
    {
      "cell_type": "code",
      "source": [
        "#creating an array using range\n",
        "range_ = np.array(range(1, 5))\n",
        "range_"
      ],
      "metadata": {
        "colab": {
          "base_uri": "https://localhost:8080/"
        },
        "id": "9AHyRxtgaoPW",
        "outputId": "02ba6747-b7a7-4c5e-a743-8eea8d4d2987"
      },
      "execution_count": 13,
      "outputs": [
        {
          "output_type": "execute_result",
          "data": {
            "text/plain": [
              "array([1, 2, 3, 4])"
            ]
          },
          "metadata": {},
          "execution_count": 13
        }
      ]
    },
    {
      "cell_type": "code",
      "source": [
        "#concatenating two arrays\n",
        "a1 = np.array([1, 2, 3])\n",
        "a2 = np.array([4, 5, 6])\n",
        "concate = np.concatenate((a1, a2))\n",
        "concate"
      ],
      "metadata": {
        "colab": {
          "base_uri": "https://localhost:8080/"
        },
        "id": "8N3mE67_bBIm",
        "outputId": "3f578ce4-1eb3-46a9-a315-0f96c8f0fd20"
      },
      "execution_count": 17,
      "outputs": [
        {
          "output_type": "execute_result",
          "data": {
            "text/plain": [
              "array([1, 2, 3, 4, 5, 6])"
            ]
          },
          "metadata": {},
          "execution_count": 17
        }
      ]
    },
    {
      "cell_type": "markdown",
      "source": [
        "<p>* To find dimension, shape, size of an array</p>"
      ],
      "metadata": {
        "id": "Fq62mR7-eUae"
      }
    },
    {
      "cell_type": "code",
      "source": [
        "#sample array\n",
        "sam = np.array([[[24, 45, 66, 78]], \n",
        "                [[77, 86, 94, 36]],\n",
        "                [[28, 53, 71, 90]]])\n",
        "sam"
      ],
      "metadata": {
        "colab": {
          "base_uri": "https://localhost:8080/"
        },
        "id": "MH-3W1EFeDX4",
        "outputId": "54ad64b3-4fb8-43a0-8b5f-e20c3a5a569d"
      },
      "execution_count": 18,
      "outputs": [
        {
          "output_type": "execute_result",
          "data": {
            "text/plain": [
              "array([[[24, 45, 66, 78]],\n",
              "\n",
              "       [[77, 86, 94, 36]],\n",
              "\n",
              "       [[28, 53, 71, 90]]])"
            ]
          },
          "metadata": {},
          "execution_count": 18
        }
      ]
    },
    {
      "cell_type": "code",
      "source": [
        "#to find the number of dimensions\n",
        "sam.ndim"
      ],
      "metadata": {
        "colab": {
          "base_uri": "https://localhost:8080/"
        },
        "id": "FZkTKmgjfCMQ",
        "outputId": "c3994eae-574e-4b0b-8dad-31a984ea4323"
      },
      "execution_count": 19,
      "outputs": [
        {
          "output_type": "execute_result",
          "data": {
            "text/plain": [
              "3"
            ]
          },
          "metadata": {},
          "execution_count": 19
        }
      ]
    },
    {
      "cell_type": "code",
      "source": [
        "#to find the shape\n",
        "sam.shape"
      ],
      "metadata": {
        "colab": {
          "base_uri": "https://localhost:8080/"
        },
        "id": "4qI9b_XEfMM4",
        "outputId": "8eca288f-d52c-49c8-8ad3-8a926dc45713"
      },
      "execution_count": 20,
      "outputs": [
        {
          "output_type": "execute_result",
          "data": {
            "text/plain": [
              "(3, 1, 4)"
            ]
          },
          "metadata": {},
          "execution_count": 20
        }
      ]
    },
    {
      "cell_type": "code",
      "source": [
        "#to find the size\n",
        "sam.size"
      ],
      "metadata": {
        "colab": {
          "base_uri": "https://localhost:8080/"
        },
        "id": "NlDOC3lDfVPH",
        "outputId": "adbbe0b6-bb03-41d5-a111-aa9e9a022476"
      },
      "execution_count": 21,
      "outputs": [
        {
          "output_type": "execute_result",
          "data": {
            "text/plain": [
              "12"
            ]
          },
          "metadata": {},
          "execution_count": 21
        }
      ]
    },
    {
      "cell_type": "markdown",
      "source": [
        "<p>* Most useful array operations</p>"
      ],
      "metadata": {
        "id": "LYuZyO7FgDFf"
      }
    },
    {
      "cell_type": "code",
      "source": [
        "#to find maximum\n",
        "sam.max()"
      ],
      "metadata": {
        "colab": {
          "base_uri": "https://localhost:8080/"
        },
        "id": "0Xs0G2FtgJIn",
        "outputId": "6abebc45-8e1b-4e9f-913d-ab8b0498a1a7"
      },
      "execution_count": 23,
      "outputs": [
        {
          "output_type": "execute_result",
          "data": {
            "text/plain": [
              "94"
            ]
          },
          "metadata": {},
          "execution_count": 23
        }
      ]
    },
    {
      "cell_type": "code",
      "source": [
        "#to find minimum\n",
        "sam.min()"
      ],
      "metadata": {
        "colab": {
          "base_uri": "https://localhost:8080/"
        },
        "id": "MqXGAs0kgWnP",
        "outputId": "4ea2c8b8-62aa-4259-ebef-049908ded724"
      },
      "execution_count": 24,
      "outputs": [
        {
          "output_type": "execute_result",
          "data": {
            "text/plain": [
              "24"
            ]
          },
          "metadata": {},
          "execution_count": 24
        }
      ]
    },
    {
      "cell_type": "code",
      "source": [
        "#to find sum\n",
        "sam.sum()"
      ],
      "metadata": {
        "colab": {
          "base_uri": "https://localhost:8080/"
        },
        "id": "2oIoeyLOgb0H",
        "outputId": "198fceb0-bf50-4563-82cd-eb5caf7202f2"
      },
      "execution_count": 25,
      "outputs": [
        {
          "output_type": "execute_result",
          "data": {
            "text/plain": [
              "748"
            ]
          },
          "metadata": {},
          "execution_count": 25
        }
      ]
    },
    {
      "cell_type": "markdown",
      "source": [
        "<p>* generating array with random numbers</p>"
      ],
      "metadata": {
        "id": "Z3b796elhtnx"
      }
    },
    {
      "cell_type": "code",
      "source": [
        "#generating array with random numbers\n",
        "#from 1, 10 in the shape of 2x4\n",
        "rng = np.random.default_rng() #to generate random numbers\n",
        "ran = rng.integers(10, size=(2, 4))\n",
        "ran"
      ],
      "metadata": {
        "colab": {
          "base_uri": "https://localhost:8080/"
        },
        "id": "sWOsVYmyh1FI",
        "outputId": "f81514d0-6f4f-4e4b-dc44-c21af30ba7b6"
      },
      "execution_count": 29,
      "outputs": [
        {
          "output_type": "execute_result",
          "data": {
            "text/plain": [
              "array([[0, 6, 3, 5],\n",
              "       [1, 0, 2, 1]])"
            ]
          },
          "metadata": {},
          "execution_count": 29
        }
      ]
    },
    {
      "cell_type": "markdown",
      "source": [
        "<p>* getting unique items</p>"
      ],
      "metadata": {
        "id": "u6B-pvDAiwkp"
      }
    },
    {
      "cell_type": "code",
      "source": [
        "arr = np.array([11, 11, 12, 13, 14, 15, 16, 17, 12, 13, 11, 14, 18, 19, 20])\n",
        "uni = np.unique(arr)\n",
        "uni"
      ],
      "metadata": {
        "colab": {
          "base_uri": "https://localhost:8080/"
        },
        "id": "nfOJ7mcwjESY",
        "outputId": "6fa3aa07-4ec8-4586-fe8e-c47ed1ef3c94"
      },
      "execution_count": 30,
      "outputs": [
        {
          "output_type": "execute_result",
          "data": {
            "text/plain": [
              "array([11, 12, 13, 14, 15, 16, 17, 18, 19, 20])"
            ]
          },
          "metadata": {},
          "execution_count": 30
        }
      ]
    },
    {
      "cell_type": "markdown",
      "source": [
        "<p>* Reversing an array</p>"
      ],
      "metadata": {
        "id": "l8o1FJvRj0yw"
      }
    },
    {
      "cell_type": "code",
      "source": [
        "#reverse an array\n",
        "rev = np.flip(uni)\n",
        "rev"
      ],
      "metadata": {
        "colab": {
          "base_uri": "https://localhost:8080/"
        },
        "id": "LpdW_T9aj5xQ",
        "outputId": "35a5683b-3837-4f20-8ea0-62fa977febe1"
      },
      "execution_count": 31,
      "outputs": [
        {
          "output_type": "execute_result",
          "data": {
            "text/plain": [
              "array([20, 19, 18, 17, 16, 15, 14, 13, 12, 11])"
            ]
          },
          "metadata": {},
          "execution_count": 31
        }
      ]
    },
    {
      "cell_type": "markdown",
      "source": [
        "<p>* Saving and load numpy objects</p>"
      ],
      "metadata": {
        "id": "a1aIuudxkjYg"
      }
    },
    {
      "cell_type": "code",
      "source": [
        "#saving a numpy object\n",
        "np.save(\"reverse\", rev) \n",
        "#it will save as reverse.npy "
      ],
      "metadata": {
        "id": "6ENnmxxJknvq"
      },
      "execution_count": 33,
      "outputs": []
    },
    {
      "cell_type": "code",
      "source": [
        "#loading an numpy file\n",
        "file_ = np.load(\"reverse.npy\")\n",
        "file_"
      ],
      "metadata": {
        "colab": {
          "base_uri": "https://localhost:8080/"
        },
        "id": "6JW3ovC3lDGn",
        "outputId": "4e80a284-b628-48af-fed0-5a7c1524fbee"
      },
      "execution_count": 34,
      "outputs": [
        {
          "output_type": "execute_result",
          "data": {
            "text/plain": [
              "array([20, 19, 18, 17, 16, 15, 14, 13, 12, 11])"
            ]
          },
          "metadata": {},
          "execution_count": 34
        }
      ]
    }
  ]
}